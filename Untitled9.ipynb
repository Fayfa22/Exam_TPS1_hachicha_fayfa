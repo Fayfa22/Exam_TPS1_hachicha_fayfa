{
  "nbformat": 4,
  "nbformat_minor": 0,
  "metadata": {
    "colab": {
      "provenance": [],
      "include_colab_link": true
    },
    "kernelspec": {
      "name": "python3",
      "display_name": "Python 3"
    },
    "language_info": {
      "name": "python"
    }
  },
  "cells": [
    {
      "cell_type": "markdown",
      "metadata": {
        "id": "view-in-github",
        "colab_type": "text"
      },
      "source": [
        "<a href=\"https://colab.research.google.com/github/Fayfa22/Exam_TPS1_hachicha_fayfa/blob/main/Untitled9.ipynb\" target=\"_parent\"><img src=\"https://colab.research.google.com/assets/colab-badge.svg\" alt=\"Open In Colab\"/></a>"
      ]
    },
    {
      "cell_type": "code",
      "execution_count": null,
      "metadata": {
        "colab": {
          "base_uri": "https://localhost:8080/",
          "height": 668
        },
        "id": "-pYlIuVcuJb5",
        "outputId": "5b97ccf3-15b5-49e2-d79a-8f288e490ee0"
      },
      "outputs": [
        {
          "output_type": "stream",
          "name": "stderr",
          "text": [
            "Device set to use cpu\n"
          ]
        },
        {
          "output_type": "stream",
          "name": "stdout",
          "text": [
            "It looks like you are running Gradio on a hosted a Jupyter notebook. For the Gradio app to work, sharing must be enabled. Automatically setting `share=True` (you can turn this off by setting `share=False` in `launch()` explicitly).\n",
            "\n",
            "Colab notebook detected. To show errors in colab notebook, set debug=True in launch()\n",
            "* Running on public URL: https://2124dedf20b4f1b858.gradio.live\n",
            "\n",
            "This share link expires in 1 week. For free permanent hosting and GPU upgrades, run `gradio deploy` from the terminal in the working directory to deploy to Hugging Face Spaces (https://huggingface.co/spaces)\n"
          ]
        },
        {
          "output_type": "display_data",
          "data": {
            "text/plain": [
              "<IPython.core.display.HTML object>"
            ],
            "text/html": [
              "<div><iframe src=\"https://2124dedf20b4f1b858.gradio.live\" width=\"100%\" height=\"500\" allow=\"autoplay; camera; microphone; clipboard-read; clipboard-write;\" frameborder=\"0\" allowfullscreen></iframe></div>"
            ]
          },
          "metadata": {}
        },
        {
          "output_type": "execute_result",
          "data": {
            "text/plain": []
          },
          "metadata": {},
          "execution_count": 3
        }
      ],
      "source": [
        "# Installation des dépendances\n",
        "!pip install edge-tts transformers gradio --quiet\n",
        "\n",
        "# Imports\n",
        "from transformers import pipeline\n",
        "import edge_tts\n",
        "import asyncio\n",
        "import gradio as gr\n",
        "import os\n",
        "import random\n",
        "import glob\n",
        "import uuid\n",
        "\n",
        "# Chargement du modèle français\n",
        "generator = pipeline(\"text-generation\", model=\"asi/gpt-fr-cased-small\")\n",
        "\n",
        "# Listes pour détection de genre\n",
        "mots_femmes = [\"femme\", \"fille\", \"madame\", \"mère\", \"sœur\", \"patiente\", \"princesse\", \"reine\", \"maman\", \"présentatrice\"]\n",
        "mots_hommes = [\"homme\", \"garçon\", \"monsieur\", \"père\", \"frère\", \"patient\", \"prince\", \"roi\", \"papa\", \"présentateur\"]\n",
        "\n",
        "# Voix Microsoft Edge compatibles\n",
        "VOIX_EDGE = {\n",
        "    \"homme\": \"fr-FR-HenriNeural\",   # Voix masculine française\n",
        "    \"femme\": \"fr-FR-DeniseNeural\"  # Voix féminine française\n",
        "}\n",
        "\n",
        "# Détection automatique du genre\n",
        "def detect_genre_utilisateur(prompt):\n",
        "    prompt = prompt.lower()\n",
        "    if any(mot in prompt for mot in mots_femmes):\n",
        "        return \"femme\"\n",
        "    else:\n",
        "        return \"homme\"\n",
        "\n",
        "# Sélection d'une image aléatoire selon le genre\n",
        "def get_random_images(genre, count):\n",
        "    dossier = f\"images/{genre}\"\n",
        "    images = glob.glob(os.path.join(dossier, \"*.jpeg\"))\n",
        "    if not images:\n",
        "        return []\n",
        "    return random.sample(images, min(count, len(images)))\n",
        "\n",
        "# Synthèse vocale avec edge-tts\n",
        "async def tts_edge_tts(text, genre):\n",
        "    voice = VOIX_EDGE[genre]\n",
        "    filename = f\"audio_{uuid.uuid4().hex}.mp3\"\n",
        "    communicate = edge_tts.Communicate(text=text, voice=voice)\n",
        "    await communicate.save(filename)\n",
        "    return filename\n",
        "\n",
        "# Fonction principale\n",
        "def generate_presentation(prompt):\n",
        "    genre_utilisateur = detect_genre_utilisateur(prompt)\n",
        "\n",
        "    prompt_complet = (\n",
        "        f\"Tu es un présentateur télé français. Fais une présentation claire, concise,cohérente et naturelle.Ne t'éparpilles pas dans tes phrases.\\n\"\n",
        "        f\"{prompt}\\n\"\n",
        "        f\"Commence ta présentation maintenant :\\n\"\n",
        "    )\n",
        "\n",
        "    result = generator(\n",
        "        prompt_complet,\n",
        "        max_length=200,\n",
        "        temperature=0.7,\n",
        "        top_p=0.9,\n",
        "        do_sample=True,\n",
        "        repetition_penalty=1.2\n",
        "    )[0][\"generated_text\"]\n",
        "\n",
        "    if result.lower().startswith(prompt_complet.lower()):\n",
        "        result = result[len(prompt_complet):].strip()\n",
        "\n",
        "    audio_file = asyncio.run(tts_edge_tts(result, genre_utilisateur))\n",
        "\n",
        "    images = get_random_images(genre_utilisateur, 1) or [os.path.abspath(\"images/default.jpeg\")]\n",
        "\n",
        "    return result, audio_file, images\n",
        "\n",
        "# Lancement de l'interface Gradio\n",
        "gr.Interface(\n",
        "    fn=generate_presentation,\n",
        "    inputs=gr.Textbox(label=\"Décris la présentation\", placeholder=\"Ex: un homme présente les actualités\"),\n",
        "    outputs=[\n",
        "        gr.Textbox(label=\"Texte généré\"),\n",
        "        gr.Audio(label=\"Voix générée\"),\n",
        "        gr.Gallery(label=\"Image du présentateur ou de la présentatrice\", columns=1),\n",
        "    ],\n",
        "    title=\"🎙️ Présentateur / Présentatrice TV\",\n",
        "    description=\"Décrivez un présentateur ou une présentatrice, et recevez un discours généré, lu par une voix adaptée et avec une image.\"\n",
        ").launch()"
      ]
    }
  ]
}